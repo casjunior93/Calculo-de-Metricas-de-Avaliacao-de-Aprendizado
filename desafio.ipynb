{
  "nbformat": 4,
  "nbformat_minor": 0,
  "metadata": {
    "colab": {
      "provenance": [],
      "authorship_tag": "ABX9TyNBSS6Y5wb/kuStq5SsYJ7i",
      "include_colab_link": true
    },
    "kernelspec": {
      "name": "python3",
      "display_name": "Python 3"
    },
    "language_info": {
      "name": "python"
    }
  },
  "cells": [
    {
      "cell_type": "markdown",
      "metadata": {
        "id": "view-in-github",
        "colab_type": "text"
      },
      "source": [
        "<a href=\"https://colab.research.google.com/github/casjunior93/Calculo-de-Metricas-de-Avaliacao-de-Aprendizado/blob/main/desafio.ipynb\" target=\"_parent\"><img src=\"https://colab.research.google.com/assets/colab-badge.svg\" alt=\"Open In Colab\"/></a>"
      ]
    },
    {
      "cell_type": "markdown",
      "source": [
        "# Cálculo de Métricas de Avaliação de Aprendizado"
      ],
      "metadata": {
        "id": "HEQ6RBymKXh7"
      }
    },
    {
      "cell_type": "markdown",
      "source": [
        "Neste projeto, vamos calcular as principais métricas para avaliação de modelos de classificação de dados, como acurácia, sensibilidade (recall), especificidade, precisão e F-score."
      ],
      "metadata": {
        "id": "VRQDnG_SKd4o"
      }
    },
    {
      "cell_type": "markdown",
      "source": [
        "# Bibliotecas essenciais"
      ],
      "metadata": {
        "id": "dXSTxQsiKiN0"
      }
    },
    {
      "cell_type": "code",
      "source": [
        "import numpy as np\n",
        "import pandas as pd\n",
        "import seaborn as sns\n",
        "import matplotlib.pyplot as plt\n",
        "import warnings\n",
        "warnings.filterwarnings('ignore')\n",
        "\n",
        "#Configura o pandas para não exibir resultados em notação científica\n",
        "pd.options.display.float_format = '{:.2f}'.format"
      ],
      "metadata": {
        "id": "t2sSkzxFKZlu"
      },
      "execution_count": 1,
      "outputs": []
    },
    {
      "cell_type": "markdown",
      "source": [
        "# Roteiro"
      ],
      "metadata": {
        "id": "7j-Rjr_hL7wa"
      }
    },
    {
      "cell_type": "markdown",
      "source": [
        "Para criar a matriz de confusão que será usada nesse desafio, vou criar um modelo de classificação para dar suporte a essa matriz. Este modelo de classificação utiliza o conjunto de dados MNIST, composto por 70 mil imagens de algarismos escritos à mão. O objetivo é classificar os algarismos das imagens. Este exemplo de classificação está descrito no livro  Mãos à Obra: Aprendizado de Máquina com Scikit-Learn, Keras & TensorFlow, de Aurélien Géron.\n",
        "\n",
        "Além de gerar a matriz e as métricas, será abordado também a validação cruzada."
      ],
      "metadata": {
        "id": "xB3qNjQFMAiU"
      }
    },
    {
      "cell_type": "markdown",
      "source": [
        "# Obtendo os dados"
      ],
      "metadata": {
        "id": "5I2ZOQ4fNUEc"
      }
    },
    {
      "cell_type": "code",
      "source": [
        "from sklearn.datasets import fetch_openml"
      ],
      "metadata": {
        "id": "NXiL4khWL_Ge"
      },
      "execution_count": 2,
      "outputs": []
    },
    {
      "cell_type": "code",
      "source": [
        "%%time\n",
        "mnist = fetch_openml('mnist_784', version=1)\n",
        "mnist.keys()"
      ],
      "metadata": {
        "colab": {
          "base_uri": "https://localhost:8080/"
        },
        "id": "gEfzyNnqNfRV",
        "outputId": "bd20f956-18d4-49e6-ebcf-f1029cd48d7e"
      },
      "execution_count": 3,
      "outputs": [
        {
          "output_type": "stream",
          "name": "stdout",
          "text": [
            "CPU times: user 53.9 s, sys: 5.34 s, total: 59.2 s\n",
            "Wall time: 1min 1s\n"
          ]
        },
        {
          "output_type": "execute_result",
          "data": {
            "text/plain": [
              "dict_keys(['data', 'target', 'frame', 'categories', 'feature_names', 'target_names', 'DESCR', 'details', 'url'])"
            ]
          },
          "metadata": {},
          "execution_count": 3
        }
      ]
    },
    {
      "cell_type": "markdown",
      "source": [
        "Conferindo os dados:"
      ],
      "metadata": {
        "id": "2VwVmhLNOHbI"
      }
    },
    {
      "cell_type": "code",
      "source": [
        "X, y = mnist['data'], mnist['target']"
      ],
      "metadata": {
        "id": "XmKLI05gNrya"
      },
      "execution_count": 4,
      "outputs": []
    },
    {
      "cell_type": "code",
      "source": [
        "X.shape"
      ],
      "metadata": {
        "colab": {
          "base_uri": "https://localhost:8080/"
        },
        "id": "hyoEaGcKOOKZ",
        "outputId": "ac553aaa-d7d6-48c4-dd35-6d862bc9f923"
      },
      "execution_count": 5,
      "outputs": [
        {
          "output_type": "execute_result",
          "data": {
            "text/plain": [
              "(70000, 784)"
            ]
          },
          "metadata": {},
          "execution_count": 5
        }
      ]
    },
    {
      "cell_type": "code",
      "source": [
        "y.shape"
      ],
      "metadata": {
        "colab": {
          "base_uri": "https://localhost:8080/"
        },
        "id": "IRtGkdInOSeM",
        "outputId": "2c01cb46-9045-4791-8ecd-6f20d999cc93"
      },
      "execution_count": 6,
      "outputs": [
        {
          "output_type": "execute_result",
          "data": {
            "text/plain": [
              "(70000,)"
            ]
          },
          "metadata": {},
          "execution_count": 6
        }
      ]
    },
    {
      "cell_type": "markdown",
      "source": [
        "# Separando os dados em conjuntos de teste e treino"
      ],
      "metadata": {
        "id": "wh4MsXAjOYNb"
      }
    },
    {
      "cell_type": "code",
      "source": [
        "X_treino, X_teste, y_treino, y_teste = X[:60000], X[60000:], y[:60000], y[60000:]"
      ],
      "metadata": {
        "id": "EJcjFPTNOUFP"
      },
      "execution_count": 7,
      "outputs": []
    },
    {
      "cell_type": "markdown",
      "source": [
        "# Utilizando um classificador multiclasse\n",
        "\n",
        "O objetivo é criar um sistema que consiga classificar as imagens de algarismos em 10 classes, de 0 a 9."
      ],
      "metadata": {
        "id": "BRWjdAKUPwNE"
      }
    },
    {
      "cell_type": "code",
      "source": [
        "from sklearn.svm import SVC"
      ],
      "metadata": {
        "id": "MdqU9WwSO-oB"
      },
      "execution_count": 8,
      "outputs": []
    },
    {
      "cell_type": "code",
      "source": [
        "svm_clf = SVC()"
      ],
      "metadata": {
        "id": "oYytprjAQCV_"
      },
      "execution_count": 9,
      "outputs": []
    },
    {
      "cell_type": "code",
      "source": [
        "%%time\n",
        "svm_clf.fit(X_treino, y_treino)"
      ],
      "metadata": {
        "colab": {
          "base_uri": "https://localhost:8080/"
        },
        "id": "RlhxwNqVQE1O",
        "outputId": "bef80fd5-ecf2-48fa-cfc3-fb713ec7f60f"
      },
      "execution_count": 10,
      "outputs": [
        {
          "output_type": "stream",
          "name": "stdout",
          "text": [
            "CPU times: user 5min 35s, sys: 657 ms, total: 5min 36s\n",
            "Wall time: 5min 35s\n"
          ]
        },
        {
          "output_type": "execute_result",
          "data": {
            "text/plain": [
              "SVC()"
            ]
          },
          "metadata": {},
          "execution_count": 10
        }
      ]
    },
    {
      "cell_type": "markdown",
      "source": [
        "# Acurácia"
      ],
      "metadata": {
        "id": "YcmD-aPdYsxI"
      }
    },
    {
      "cell_type": "code",
      "source": [
        "from sklearn.model_selection import cross_val_score"
      ],
      "metadata": {
        "id": "4QK84qXuYvjr"
      },
      "execution_count": 16,
      "outputs": []
    },
    {
      "cell_type": "code",
      "source": [
        "cross_val_score(svm_clf, X_treino, y_treino, cv=3, scoring='accuracy')"
      ],
      "metadata": {
        "id": "dyovEgsyYyT7"
      },
      "execution_count": null,
      "outputs": []
    },
    {
      "cell_type": "markdown",
      "source": [
        "# Matriz de confusão"
      ],
      "metadata": {
        "id": "O2lq9lRkVxEF"
      }
    },
    {
      "cell_type": "code",
      "source": [
        "from sklearn.metrics import plot_confusion_matrix, accuracy_score, recall_score, precision_score, plot_roc_curve"
      ],
      "metadata": {
        "id": "Hj4ES3pmWLbg"
      },
      "execution_count": 14,
      "outputs": []
    },
    {
      "cell_type": "code",
      "source": [
        "%%time\n",
        "plot_confusion_matrix(svm_clf, X_treino, y_treino, cmap='Blues');"
      ],
      "metadata": {
        "colab": {
          "base_uri": "https://localhost:8080/",
          "height": 331
        },
        "id": "_sSyR-5xQhWg",
        "outputId": "ce8a85f0-00a5-409f-a6d4-222049fe834c"
      },
      "execution_count": 15,
      "outputs": [
        {
          "output_type": "stream",
          "name": "stdout",
          "text": [
            "CPU times: user 10min 14s, sys: 636 ms, total: 10min 14s\n",
            "Wall time: 10min 14s\n"
          ]
        },
        {
          "output_type": "execute_result",
          "data": {
            "text/plain": [
              "<sklearn.metrics._plot.confusion_matrix.ConfusionMatrixDisplay at 0x7fca9bb449a0>"
            ]
          },
          "metadata": {},
          "execution_count": 15
        },
        {
          "output_type": "display_data",
          "data": {
            "text/plain": [
              "<Figure size 432x288 with 2 Axes>"
            ],
            "image/png": "[encoded data removed]"
          },
          "metadata": {
            "needs_background": "light"
          }
        }
      ]
    },
    {
      "cell_type": "code",
      "source": [],
      "metadata": {
        "id": "apHLv0WeYdRG"
      },
      "execution_count": null,
      "outputs": []
    }
  ]
}